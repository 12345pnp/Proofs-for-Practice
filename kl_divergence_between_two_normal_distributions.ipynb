{
  "cells": [
    {
      "cell_type": "markdown",
      "metadata": {},
      "source": []
    },
    {
      "cell_type": "markdown",
      "metadata": {},
      "source": [
        "$$ KL (P || Q) = \\int_{-\\infty}^{\\infty} p(x) \\log \\dfrac{p(x)}{q(x)}$$"
      ]
    },
    {
      "cell_type": "markdown",
      "metadata": {},
      "source": [
        "$$ p(x) = \\mathcal{N}(\\mu_p, \\sigma_p) = \\dfrac{1}{\\sigma_p\\sqrt{2 \\pi}} e ^ {-\\dfrac{(x - \\mu_p)^2} {2\\sigma_p^2}} $$\n",
        "\n",
        "$$ q(x) = \\mathcal{N}(\\mu_q, \\sigma_q) = \\dfrac{1}{\\sigma_q\\sqrt{2 \\pi}} e ^ {-\\dfrac{(x - \\mu_q)^2} {2\\sigma_q^2}} $$"
      ]
    },
    {
      "cell_type": "markdown",
      "metadata": {},
      "source": [
        "$$ \\log \\dfrac{p(x)}{q(x)} = \\log \\dfrac{\\sigma_q}{\\sigma_p} + \\dfrac{(x - \\mu_q)^2} {2\\sigma_q^2} - \\dfrac{(x - \\mu_p)^2} {2\\sigma_p^2}$$\n"
      ]
    },
    {
      "cell_type": "markdown",
      "metadata": {},
      "source": [
        "$$KL (P || Q) =  \\int_{-\\infty}^{\\infty}  p(x) \\log \\dfrac{p(x)}{q(x)} \n",
        "=  \\log \\dfrac{\\sigma_q}{\\sigma_p} \\cancel{\\int_{-\\infty}^{\\infty}  p(x)} + \\dfrac{1} {2\\sigma_q^2} \\int_{-\\infty}^{\\infty}  p(x) (x - \\mu_q)^2 \n",
        "- \\dfrac{1} {2\\sigma_p^2} \\int_{-\\infty}^{\\infty}  p(x) (x - \\mu_p)^2 \n",
        "\n",
        "$$\n"
      ]
    },
    {
      "cell_type": "markdown",
      "metadata": {},
      "source": [
        "$$ \\int_{-\\infty}^{\\infty}  p(x) (x - \\mu_p)^2 = \\mathbb{E} [(X_p - \\mu_p)^2] = \\sigma_p^2$$"
      ]
    },
    {
      "cell_type": "markdown",
      "metadata": {},
      "source": [
        "$$ (x - \\mu_q)^2  = x^2 + \\mu_q^2 - 2x\\mu_q = (x^2 + \\mu_p^2 - 2x\\mu_p) - (\\mu_p^2 - 2x\\mu_p) + (\\mu_q^2 - 2x\\mu_q)$$\n",
        "\n",
        "$$ = (x - \\mu_p)^2 + (\\mu_q^2 - \\mu_p^2) + 2x(\\mu_p - \\mu_q) $$"
      ]
    },
    {
      "cell_type": "markdown",
      "metadata": {},
      "source": [
        "$$ \\int_{-\\infty}^{\\infty}  p(x) (x - \\mu_q)^2 = \\mathbb{E} [(X_p - \\mu_p)^2] + (\\mu_q^2 - \\mu_p^2)  \\cancel{\\int_{-\\infty}^{\\infty}  p(x)} + 2(\\mu_p - \\mu_q) \\int_{-\\infty}^{\\infty}  p(x)x  $$\n",
        "\n",
        "$$ = \\sigma_p^2 + (\\mu_q^2 - \\mu_p^2) +  2\\mu_p(\\mu_p - \\mu_q) = \\sigma_p^2  + \\mu_p^2 + \\mu_q^2 - 2\\mu_p\\mu_q$$\n",
        "\n",
        "$$ = \\sigma_p^2 + (\\mu_p - \\mu_q)^2 $$"
      ]
    },
    {
      "cell_type": "markdown",
      "metadata": {},
      "source": [
        "$$ KL (P || Q) =  \\log \\dfrac{\\sigma_q}{\\sigma_p} +  \\dfrac{\\sigma_p^2 + (\\mu_p - \\mu_q)^2} {2\\sigma_q^2} - \\dfrac{1}{2} $$"
      ]
    }
  ],
  "metadata": {
    "colab": {
      "provenance": []
    },
    "kernelspec": {
      "display_name": "test_env",
      "language": "python",
      "name": "python3"
    },
    "language_info": {
      "codemirror_mode": {
        "name": "ipython",
        "version": 3
      },
      "file_extension": ".py",
      "mimetype": "text/x-python",
      "name": "python",
      "nbconvert_exporter": "python",
      "pygments_lexer": "ipython3",
      "version": "3.12.11"
    }
  },
  "nbformat": 4,
  "nbformat_minor": 0
}
